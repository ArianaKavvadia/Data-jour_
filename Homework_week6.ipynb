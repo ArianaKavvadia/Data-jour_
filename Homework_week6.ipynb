{
  "nbformat": 4,
  "nbformat_minor": 0,
  "metadata": {
    "colab": {
      "provenance": [],
      "include_colab_link": true
    },
    "kernelspec": {
      "name": "python3",
      "display_name": "Python 3"
    },
    "language_info": {
      "name": "python"
    }
  },
  "cells": [
    {
      "cell_type": "markdown",
      "metadata": {
        "id": "view-in-github",
        "colab_type": "text"
      },
      "source": [
        "<a href=\"https://colab.research.google.com/github/ArianaKavvadia/Data-jour_/blob/main/Homework_week6.ipynb\" target=\"_parent\"><img src=\"https://colab.research.google.com/assets/colab-badge.svg\" alt=\"Open In Colab\"/></a>"
      ]
    },
    {
      "cell_type": "markdown",
      "source": [
        "### **ΑΣΚΗΣΗ 1**"
      ],
      "metadata": {
        "id": "jEj3sBix0ek8"
      }
    },
    {
      "cell_type": "code",
      "execution_count": 2,
      "metadata": {
        "colab": {
          "base_uri": "https://localhost:8080/"
        },
        "id": "_-r7xOeSwbp-",
        "outputId": "5a82117e-bf56-432e-f887-4a53a0ee34ea"
      },
      "outputs": [
        {
          "output_type": "stream",
          "name": "stdout",
          "text": [
            "το a είναι 5\n",
            "το b είναι 4\n"
          ]
        }
      ],
      "source": [
        "a = 5\n",
        "b = 4\n",
        "print(\"το a είναι\", a)\n",
        "print(\"το b είναι\", b)"
      ]
    },
    {
      "cell_type": "code",
      "source": [
        "b = b+3\n",
        "print(\"τώρα το b είναι\", b)"
      ],
      "metadata": {
        "colab": {
          "base_uri": "https://localhost:8080/"
        },
        "id": "goC-RPzAse1v",
        "outputId": "193a0df6-af77-4403-c8ba-6467aa6d1103"
      },
      "execution_count": 3,
      "outputs": [
        {
          "output_type": "stream",
          "name": "stdout",
          "text": [
            "τώρα το b είναι 7\n"
          ]
        }
      ]
    },
    {
      "cell_type": "code",
      "source": [
        "b += 2            # μπορώ να αυξήσω την τιμή μιας μεταβλητής και με αυτό τη σύνταξη\n",
        "print(\"τώρα το b είναι\", b)"
      ],
      "metadata": {
        "colab": {
          "base_uri": "https://localhost:8080/"
        },
        "id": "NHVykmq2zuue",
        "outputId": "ed9340b4-278b-45b7-bd58-ae34ed5fe675"
      },
      "execution_count": 4,
      "outputs": [
        {
          "output_type": "stream",
          "name": "stdout",
          "text": [
            "τώρα το b είναι 9\n"
          ]
        }
      ]
    },
    {
      "cell_type": "markdown",
      "source": [
        "- **Φτιάξτε μια αριθμητική μεταβλητή (integer) με όνομα c και τιμή έναν αριθμό από το 6 έως το 9**\n",
        "- **Τυπώστε (print) την τιμή της μεταβλητής c που ορίσατε, με σχετικό κείμενο, όπως παραπάνω**"
      ],
      "metadata": {
        "id": "vrysOR_tEN44"
      }
    },
    {
      "cell_type": "code",
      "source": [
        "c = 6\n",
        "c +=3\n",
        "print(\"τώρα το c είναι\", c)"
      ],
      "metadata": {
        "id": "k6eEgWCzEwPs",
        "colab": {
          "base_uri": "https://localhost:8080/"
        },
        "outputId": "b7e5d887-d1b2-4dec-ce17-f2db807d32b8"
      },
      "execution_count": 5,
      "outputs": [
        {
          "output_type": "stream",
          "name": "stdout",
          "text": [
            "τώρα το c είναι 9\n"
          ]
        }
      ]
    },
    {
      "cell_type": "markdown",
      "source": [
        "- **Αλλάξτε την τιμή της μεταβλητής c στο διπλάσιο της τιμής που ορίσατε αρχικά**\n",
        "- **Τυπώστε τη νέα τιμή της μεταβλητής**"
      ],
      "metadata": {
        "id": "5xlBfOottBte"
      }
    },
    {
      "cell_type": "code",
      "source": [
        "c = c*2\n",
        "print(\"τώρα το c είναι\", c)"
      ],
      "metadata": {
        "id": "I4vBZpxftK6m",
        "colab": {
          "base_uri": "https://localhost:8080/"
        },
        "outputId": "b0c8f881-6693-4ce1-8091-be96508093a5"
      },
      "execution_count": 6,
      "outputs": [
        {
          "output_type": "stream",
          "name": "stdout",
          "text": [
            "τώρα το c είναι 18\n"
          ]
        }
      ]
    },
    {
      "cell_type": "markdown",
      "source": [
        "\n",
        "\n",
        "---\n",
        "\n"
      ],
      "metadata": {
        "id": "ASR9DZaEsBiL"
      }
    },
    {
      "cell_type": "markdown",
      "source": [
        "### **ΑΣΚΗΣΗ 2**"
      ],
      "metadata": {
        "id": "uGUtlPiJ1nSi"
      }
    },
    {
      "cell_type": "code",
      "source": [
        "suma = a+b\n",
        "print(\"το άθροισμα των a και b είναι\", suma)\n",
        "product = a*b\n",
        "print(\"το γινόμενο a επί b είναι\", product)\n",
        "quotient = a/b\n",
        "print(f\"το πηλίκο της διαίρεσης του {a} με το {b} είναι {quotient}\")"
      ],
      "metadata": {
        "colab": {
          "base_uri": "https://localhost:8080/"
        },
        "id": "926DS0vdwqwV",
        "outputId": "51e60e03-5c24-4745-a01b-41b103a6051a"
      },
      "execution_count": 7,
      "outputs": [
        {
          "output_type": "stream",
          "name": "stdout",
          "text": [
            "το άθροισμα των a και b είναι 14\n",
            "το γινόμενο a επί b είναι 45\n",
            "το πηλίκο της διαίρεσης του 5 με το 9 είναι 0.5555555555555556\n"
          ]
        }
      ]
    },
    {
      "cell_type": "markdown",
      "source": [
        "- **Αποθηκεύστε σε μια μεταβλητή τη διαφορά των αριθμών a και c**\n",
        "- **Αποθηκεύστε σε μια μεταβλητή το υπόλοιπο της διαίρεσης του c με το b**\n",
        "- **Τυπώστε τις τιμές των μεταβλητών που δημιουργήσατε, με σχετικό κείμενο, όπως παραπάνω**"
      ],
      "metadata": {
        "id": "mzlXeQyFFfxH"
      }
    },
    {
      "cell_type": "code",
      "source": [
        "d = a - c\n",
        "e = c % b\n",
        "\n",
        "print( \"η διαφορά των αριθμών a και c είναι\", d)\n",
        "print(\"το υπόλοιπο της διαίρεσης του c με το b είναι\", e )\n"
      ],
      "metadata": {
        "id": "evBe8lcmVA_8",
        "colab": {
          "base_uri": "https://localhost:8080/"
        },
        "outputId": "e2fab056-7ebd-41ef-9540-b8265083a40c"
      },
      "execution_count": 9,
      "outputs": [
        {
          "output_type": "stream",
          "name": "stdout",
          "text": [
            "η διαφορά των αριθμών a και c είναι -13\n",
            "το υπόλοιπο της διαίρεσης του c με το b είναι 0\n"
          ]
        }
      ]
    },
    {
      "cell_type": "markdown",
      "source": [
        "\n",
        "\n",
        "---\n",
        "\n"
      ],
      "metadata": {
        "id": "s6LWZFYhsHA7"
      }
    },
    {
      "cell_type": "markdown",
      "source": [
        "### **ΑΣΚΗΣΗ 3**"
      ],
      "metadata": {
        "id": "GOumWdJj11nY"
      }
    },
    {
      "cell_type": "code",
      "source": [
        "numbers_list = [1, 2, 3, 4, 6, 7, 8]\n",
        "print(numbers_list)\n",
        "numbers_list_length = len(numbers_list)\n",
        "print(f'το πλήθος των αντικειμένων της λίστας \"numbers_list\" είναι {numbers_list_length}')"
      ],
      "metadata": {
        "colab": {
          "base_uri": "https://localhost:8080/"
        },
        "id": "oQgBTQzqzInd",
        "outputId": "0c1b242d-8204-43e2-cc4d-9e39e2804bb6"
      },
      "execution_count": 10,
      "outputs": [
        {
          "output_type": "stream",
          "name": "stdout",
          "text": [
            "[1, 2, 3, 4, 6, 7, 8]\n",
            "το πλήθος των αντικειμένων της λίστας \"numbers_list\" είναι 7\n"
          ]
        }
      ]
    },
    {
      "cell_type": "code",
      "source": [
        "numbers_list.append(10)\n",
        "print(numbers_list)"
      ],
      "metadata": {
        "colab": {
          "base_uri": "https://localhost:8080/"
        },
        "id": "cl_73BGIzOii",
        "outputId": "ac9e6d99-6164-4bbb-9a06-5d853109de26"
      },
      "execution_count": 11,
      "outputs": [
        {
          "output_type": "stream",
          "name": "stdout",
          "text": [
            "[1, 2, 3, 4, 6, 7, 8, 10]\n"
          ]
        }
      ]
    },
    {
      "cell_type": "code",
      "source": [
        "list1 = [1, 2]\n",
        "list2 = [99, 100]\n",
        "list1 = list1 + list2"
      ],
      "metadata": {
        "id": "42T49mK8Avqr"
      },
      "execution_count": 12,
      "outputs": []
    },
    {
      "cell_type": "markdown",
      "source": [
        "- **Δημιουργήστε μια κενή λίστα και προσθέστε σε αυτή (με append) τις μεταβλητές a, b και c**\n",
        "- **Τυπώστε τα περιεχόμενα της λίστας και το πλήθος τους**\n",
        "- **Αλλάξτε τη μεταβλητή numbers_list, έτσι ώστε τώρα να περιλαμβάνει και τα αντικείμενα της νέας λίστας που μόλις δημιουργήσατε** (Tip: ο ευκολότερος τρόπος είναι να προσθέσετε τις 2 λίστες και να αποθηκεύσετε το αποτέλεσμα στη μεταβλητή numbers_list)\n",
        "- **Τυπώστε τα περιεχόμενα και το πλήθος των περιεχομένων της λίστας numbers_list**"
      ],
      "metadata": {
        "id": "7SjkzOBVY3sB"
      }
    },
    {
      "cell_type": "code",
      "source": [
        "list3 = []\n",
        "list3.append(a)\n",
        "list3.append(b)\n",
        "list3.append(c)\n",
        "print(list3)\n",
        "print(f'το πλήθος των αντικειμένων της λίστας \"numbers_list\" είναι {len(list3)}')"
      ],
      "metadata": {
        "id": "LCcJNqSksPi9",
        "colab": {
          "base_uri": "https://localhost:8080/"
        },
        "outputId": "e0ce8241-cc32-4338-e394-d6f575a0ca23"
      },
      "execution_count": 13,
      "outputs": [
        {
          "output_type": "stream",
          "name": "stdout",
          "text": [
            "[5, 9, 18]\n",
            "το πλήθος των αντικειμένων της λίστας \"numbers_list\" είναι 3\n"
          ]
        }
      ]
    },
    {
      "cell_type": "code",
      "source": [
        "numbers_list += list3\n",
        "print(numbers_list)\n",
        "print(f'το πλήθος των αντικειμένων της λίστας \"numbers_list\" είναι {len(numbers_list)}')"
      ],
      "metadata": {
        "colab": {
          "base_uri": "https://localhost:8080/"
        },
        "id": "cZEI5vS3M-JY",
        "outputId": "c7443397-4636-4274-e72a-b7e0886598bf"
      },
      "execution_count": 14,
      "outputs": [
        {
          "output_type": "stream",
          "name": "stdout",
          "text": [
            "[1, 2, 3, 4, 6, 7, 8, 10, 5, 9, 18]\n",
            "το πλήθος των αντικειμένων της λίστας \"numbers_list\" είναι 11\n"
          ]
        }
      ]
    },
    {
      "cell_type": "markdown",
      "source": [
        "\n",
        "\n",
        "---\n",
        "\n"
      ],
      "metadata": {
        "id": "E9-raYWVsOcB"
      }
    },
    {
      "cell_type": "markdown",
      "source": [
        "### **ΑΣΚΗΣΗ 4**"
      ],
      "metadata": {
        "id": "nl9pKBS43laa"
      }
    },
    {
      "cell_type": "code",
      "source": [
        "print(f'το πρώτο αντικείμενο της λίστας \"numbers_list\" είναι το {numbers_list[0]}')"
      ],
      "metadata": {
        "colab": {
          "base_uri": "https://localhost:8080/"
        },
        "id": "ZcWA_gmQ1AUy",
        "outputId": "357c676e-72f8-45d0-d60d-ff8e9291dec4"
      },
      "execution_count": 15,
      "outputs": [
        {
          "output_type": "stream",
          "name": "stdout",
          "text": [
            "το πρώτο αντικείμενο της λίστας \"numbers_list\" είναι το 1\n"
          ]
        }
      ]
    },
    {
      "cell_type": "code",
      "source": [
        "print(f'το τρίτο αντικείμενο της λίστας \"numbers_list\" είναι το {numbers_list[2]}')"
      ],
      "metadata": {
        "colab": {
          "base_uri": "https://localhost:8080/"
        },
        "id": "ZjqpobJ43QUo",
        "outputId": "b7f59709-7de0-463f-98ea-3a2e1de9c5d9"
      },
      "execution_count": 16,
      "outputs": [
        {
          "output_type": "stream",
          "name": "stdout",
          "text": [
            "το τρίτο αντικείμενο της λίστας \"numbers_list\" είναι το 3\n"
          ]
        }
      ]
    },
    {
      "cell_type": "markdown",
      "source": [
        "- **Τυπώστε το προτελευταίο αντικείμενο της νέας λίστας numbers_list**\n",
        "\n"
      ],
      "metadata": {
        "id": "7ytguAXCVp5g"
      }
    },
    {
      "cell_type": "code",
      "source": [
        "print(numbers_list[-2])"
      ],
      "metadata": {
        "id": "-WjmqPzI3Ycd",
        "colab": {
          "base_uri": "https://localhost:8080/"
        },
        "outputId": "064e1371-ab6d-4e2f-ea64-7fe1a5515b36"
      },
      "execution_count": 17,
      "outputs": [
        {
          "output_type": "stream",
          "name": "stdout",
          "text": [
            "9\n"
          ]
        }
      ]
    },
    {
      "cell_type": "markdown",
      "source": [
        "- **Τυπώστε τη λίστα numbers_list**"
      ],
      "metadata": {
        "id": "4KA08ACewHoo"
      }
    },
    {
      "cell_type": "code",
      "source": [
        "print(numbers_list)"
      ],
      "metadata": {
        "id": "eJ5yO8Ev6dIP",
        "colab": {
          "base_uri": "https://localhost:8080/"
        },
        "outputId": "5729cfe4-7ad6-4afb-e8d5-7ebfc2af480a"
      },
      "execution_count": 18,
      "outputs": [
        {
          "output_type": "stream",
          "name": "stdout",
          "text": [
            "[1, 2, 3, 4, 6, 7, 8, 10, 5, 9, 18]\n"
          ]
        }
      ]
    },
    {
      "cell_type": "markdown",
      "source": [
        "Μπορώ να ταξινομήσω τα περιεχόμενα μιας λίστας σε αύξουσα σειρά με το sort()"
      ],
      "metadata": {
        "id": "I28tplG46pdw"
      }
    },
    {
      "cell_type": "code",
      "source": [
        "sample_list = [33, 14, 82, 25, 67]\n",
        "sample_list.sort()\n",
        "print(sample_list)"
      ],
      "metadata": {
        "colab": {
          "base_uri": "https://localhost:8080/"
        },
        "id": "2-mlLUdY4jkl",
        "outputId": "aa5e0882-8d69-4c06-c644-755758c43ac1"
      },
      "execution_count": 19,
      "outputs": [
        {
          "output_type": "stream",
          "name": "stdout",
          "text": [
            "[14, 25, 33, 67, 82]\n"
          ]
        }
      ]
    },
    {
      "cell_type": "markdown",
      "source": [
        "**Note**: το sort() αποθηκεύει αυτόματα την αλλαγή. Δηλαδή **δεν** χρειάζεται να γράψουμε:\n",
        "\n",
        "\n",
        "```\n",
        "sample_list = sample_list.sort()\n",
        "```\n",
        "\n",
        "Δουλεύει ακριβώς όπως και το append(). Γράφουμε:\n",
        "\n",
        "\n",
        "```\n",
        "numbers_list.append(10)\n",
        "```\n",
        "και όχι:\n",
        "\n",
        "\n",
        "```\n",
        "numbers_list = numbers_list.append(10)\n",
        "```\n",
        "\n",
        "\n",
        "\n",
        "\n",
        "\n",
        "\n"
      ],
      "metadata": {
        "id": "33hPoqT37xZB"
      }
    },
    {
      "cell_type": "markdown",
      "source": [
        "- **Ταξινομήστε σε αύξουσα σειρά τα περιεχόμενα της λίστας numbers_list**\n",
        "- **Τυπώστε τα περιεχόμενα της number_list**"
      ],
      "metadata": {
        "id": "7MRCOD5XB4e7"
      }
    },
    {
      "cell_type": "code",
      "source": [
        "numbers_list.sort()\n",
        "print(numbers_list)"
      ],
      "metadata": {
        "id": "wuEuQWvtCEXi",
        "colab": {
          "base_uri": "https://localhost:8080/"
        },
        "outputId": "583dab9c-3441-4c23-d3eb-83c5659d0786"
      },
      "execution_count": 20,
      "outputs": [
        {
          "output_type": "stream",
          "name": "stdout",
          "text": [
            "[1, 2, 3, 4, 5, 6, 7, 8, 9, 10, 18]\n"
          ]
        }
      ]
    },
    {
      "cell_type": "markdown",
      "source": [
        "Μπορώ να πάρω ένα κομμάτι μιας λίστας, ορίζοντας το index του πρώτου αντικειμένου και το index του επόμενου από το τελευταίο που θέλουμε:"
      ],
      "metadata": {
        "id": "DayGoEEgQ66A"
      }
    },
    {
      "cell_type": "code",
      "source": [
        "print(f'ολόκληρη η λίστα \"sample_list: {sample_list}')\n",
        "print(f'τα 2 πρώτα αντικείμενα της λίστας \"sample_list\": {sample_list[:2]}')"
      ],
      "metadata": {
        "colab": {
          "base_uri": "https://localhost:8080/"
        },
        "id": "KYNe8EpUSNZZ",
        "outputId": "aa65b20a-3a52-4fcc-e2cb-13fe865707bb"
      },
      "execution_count": 21,
      "outputs": [
        {
          "output_type": "stream",
          "name": "stdout",
          "text": [
            "ολόκληρη η λίστα \"sample_list: [14, 25, 33, 67, 82]\n",
            "τα 2 πρώτα αντικείμενα της λίστας \"sample_list\": [14, 25]\n"
          ]
        }
      ]
    },
    {
      "cell_type": "markdown",
      "source": [
        "- **Τυπώστε τα 2 τελευταία αντικείμενα της λίστας sample_list**"
      ],
      "metadata": {
        "id": "5eo2BkuOTg0F"
      }
    },
    {
      "cell_type": "code",
      "source": [
        "print(numbers_list[-2:])"
      ],
      "metadata": {
        "id": "cOwxCp_USoz-",
        "colab": {
          "base_uri": "https://localhost:8080/"
        },
        "outputId": "ad145777-931c-4d4c-c2cf-cf55bef3aa15"
      },
      "execution_count": 22,
      "outputs": [
        {
          "output_type": "stream",
          "name": "stdout",
          "text": [
            "[10, 18]\n"
          ]
        }
      ]
    },
    {
      "cell_type": "markdown",
      "source": [
        "\n",
        "\n",
        "---\n",
        "\n"
      ],
      "metadata": {
        "id": "1VVxO_EFsUPD"
      }
    },
    {
      "cell_type": "markdown",
      "source": [
        "### **ΑΣΚΗΣΗ 5**"
      ],
      "metadata": {
        "id": "De9G6JSkLidH"
      }
    },
    {
      "cell_type": "markdown",
      "source": [
        "- **Τρέξτε το παρακάτω κελί**"
      ],
      "metadata": {
        "id": "jZ5S2Zbeqgsi"
      }
    },
    {
      "cell_type": "code",
      "source": [
        "doubles_list = []\n",
        "for i in numbers_list:\n",
        "  double = i*2\n",
        "  doubles_list.append(double)\n",
        "print(doubles_list)"
      ],
      "metadata": {
        "colab": {
          "base_uri": "https://localhost:8080/"
        },
        "id": "VZHei7Gco3Oq",
        "outputId": "701c375c-bed1-46a9-ccaa-70a0891f530f"
      },
      "execution_count": 23,
      "outputs": [
        {
          "output_type": "stream",
          "name": "stdout",
          "text": [
            "[2, 4, 6, 8, 10, 12, 14, 16, 18, 20, 36]\n"
          ]
        }
      ]
    },
    {
      "cell_type": "markdown",
      "source": [
        "- **Γράψτε σε ένα κελί κειμένου, τι κάνει ο παραπάνω κώδικας**"
      ],
      "metadata": {
        "id": "_r88DWBBrpeg"
      }
    },
    {
      "cell_type": "markdown",
      "source": [
        "Κάνει λούπα όλων των αριθμών, και τους διπλασιάζει όλους, μετά τους κάνει append σε άλλη λίστα, έτσι ώστε έχουμε μία λίστα με όλα τα αρχικά αντικείμενα/στοιχεία διπλασιασμένα"
      ],
      "metadata": {
        "id": "viG0RCLRPGTJ"
      }
    },
    {
      "cell_type": "markdown",
      "source": [
        "- **Φτιάξτε μια λούπα που θα υπολογίζει το τριπλάσιο κάθε αριθμού της λίστας numbers_list και θα το αποθηκεύει σε μια νέα λίστα triples_list**"
      ],
      "metadata": {
        "id": "cZbM_IbNoxbO"
      }
    },
    {
      "cell_type": "code",
      "source": [
        "# triples = [i*3 for i in numbers_list]\n",
        "\n",
        "triples_list = []\n",
        "for i in numbers_list:\n",
        "  triples_list.append(i*3)\n",
        "\n",
        "print(triples_list)\n"
      ],
      "metadata": {
        "id": "lNsgkFjJ2oeC",
        "colab": {
          "base_uri": "https://localhost:8080/"
        },
        "outputId": "3cec8630-54cb-4c8a-deb0-13b67a5607b2"
      },
      "execution_count": 51,
      "outputs": [
        {
          "output_type": "stream",
          "name": "stdout",
          "text": [
            "[3, 6, 9, 12, 15, 18, 21, 24, 27, 30, 54]\n"
          ]
        }
      ]
    },
    {
      "cell_type": "markdown",
      "source": [
        "\n",
        "\n",
        "---\n",
        "\n"
      ],
      "metadata": {
        "id": "62JQILqI2pfz"
      }
    },
    {
      "cell_type": "markdown",
      "source": [
        "### **ΑΣΚΗΣΗ 6**"
      ],
      "metadata": {
        "id": "yBY0ITh5MXD9"
      }
    },
    {
      "cell_type": "code",
      "source": [
        "for num in numbers_list:   # για κάθε αριθμό στη numbers_list\n",
        "  if num % 2 == 0:         # αν το υπόλοιπο της διαίρεσης του εκάστοτε αριθμού με το 2 ισούται με 0\n",
        "    print(f\"το {num} είναι ζυγός αριθμός\")    # τύπωσε ο αριθμός αυτός είναι ζυγός\n",
        "  else:                                       # αλλιώς\n",
        "    print(f\"το {num} είναι μονός αριθμός\")    # τύπωσε ο αριθμός αυτός είναι μονός"
      ],
      "metadata": {
        "colab": {
          "base_uri": "https://localhost:8080/"
        },
        "id": "8v539cby2qyq",
        "outputId": "091c5873-4bac-40b7-ec2b-cec29039b9b1"
      },
      "execution_count": 25,
      "outputs": [
        {
          "output_type": "stream",
          "name": "stdout",
          "text": [
            "το 1 είναι μονός αριθμός\n",
            "το 2 είναι ζυγός αριθμός\n",
            "το 3 είναι μονός αριθμός\n",
            "το 4 είναι ζυγός αριθμός\n",
            "το 5 είναι μονός αριθμός\n",
            "το 6 είναι ζυγός αριθμός\n",
            "το 7 είναι μονός αριθμός\n",
            "το 8 είναι ζυγός αριθμός\n",
            "το 9 είναι μονός αριθμός\n",
            "το 10 είναι ζυγός αριθμός\n",
            "το 18 είναι ζυγός αριθμός\n"
          ]
        }
      ]
    },
    {
      "cell_type": "markdown",
      "source": [
        "- **Φτιάξτε ένα προγραμματάκι που θα κάνει τα εξής:**\n",
        "  - **θα τρέχει για όλους τους αριθμούς που βρίσκονται στις λίστες με τα διπλάσια και τα τριπλάσια**\n",
        "  - **θα βάζει τους ζυγούς αριθμούς σε μια λίστα even_numbers_list**\n",
        "  - **θα βάζει τους μονούς αριθμούς σε μια λίστα odd_numbers_list**\n",
        "  - **Τέλος (εκτός λούπας), θα σορτάρει τις λίστες με τους μονούς και τους ζυγούς αριθμούς και θα τις τυπώνει**\n",
        "\n",
        "(Tip: ενώστε τις λίστες με τα διπλάσια και τα τριπλάσια, ώστε μία μόνο λούπα να είναι αρκετή)"
      ],
      "metadata": {
        "id": "MA0h5w3mMoG1"
      }
    },
    {
      "cell_type": "code",
      "source": [
        "even_numbers_list = []\n",
        "odd_numbers_list = []\n",
        "\n",
        "for i in doubles_list+triples_list:\n",
        "  if i % 2 == 0:\n",
        "    # είναι ζυγός αριθμός\n",
        "    even_numbers_list.append(i)\n",
        "\n",
        "  elif  i % 2 == 1:\n",
        "    # είναι μονός αριθμός\n",
        "    odd_numbers_list.append(i)\n",
        "\n",
        "  else:\n",
        "    pass\n"
      ],
      "metadata": {
        "id": "r9hgIPBMC9p-"
      },
      "execution_count": 26,
      "outputs": []
    },
    {
      "cell_type": "markdown",
      "source": [
        "\n",
        "\n",
        "---\n",
        "\n"
      ],
      "metadata": {
        "id": "1VtFSHYlXSGq"
      }
    },
    {
      "cell_type": "code",
      "source": [
        "print(even_numbers_list)\n",
        "print(odd_numbers_list)"
      ],
      "metadata": {
        "colab": {
          "base_uri": "https://localhost:8080/"
        },
        "id": "n5QZJrxFQsfL",
        "outputId": "3d729032-86ea-4fc0-a502-425e2f020966"
      },
      "execution_count": 27,
      "outputs": [
        {
          "output_type": "stream",
          "name": "stdout",
          "text": [
            "[2, 4, 6, 8, 10, 12, 14, 16, 18, 20, 36, 6, 12, 18, 24, 30, 54]\n",
            "[3, 9, 15, 21, 27]\n"
          ]
        }
      ]
    },
    {
      "cell_type": "markdown",
      "source": [
        "### **ΑΣΚΗΣΗ 7**"
      ],
      "metadata": {
        "id": "8s3IXFTyX7kj"
      }
    },
    {
      "cell_type": "markdown",
      "source": [
        "Μπορώ να ελέγχω αν ένα αντικείμενο είναι μέσα σε μια λίστα:"
      ],
      "metadata": {
        "id": "KqzOM7C3XYYu"
      }
    },
    {
      "cell_type": "code",
      "source": [
        "sample_list"
      ],
      "metadata": {
        "colab": {
          "base_uri": "https://localhost:8080/"
        },
        "id": "UBxjytpdza33",
        "outputId": "a83791c5-c9c6-47b9-f167-9dae3e282d15"
      },
      "execution_count": 28,
      "outputs": [
        {
          "output_type": "execute_result",
          "data": {
            "text/plain": [
              "[14, 25, 33, 67, 82]"
            ]
          },
          "metadata": {},
          "execution_count": 28
        }
      ]
    },
    {
      "cell_type": "code",
      "source": [
        "14 in sample_list"
      ],
      "metadata": {
        "colab": {
          "base_uri": "https://localhost:8080/"
        },
        "id": "GeRgnegPXWBb",
        "outputId": "c024feef-2451-4ee1-faea-9778f5bbb528"
      },
      "execution_count": 29,
      "outputs": [
        {
          "output_type": "execute_result",
          "data": {
            "text/plain": [
              "True"
            ]
          },
          "metadata": {},
          "execution_count": 29
        }
      ]
    },
    {
      "cell_type": "code",
      "source": [
        "15 in sample_list"
      ],
      "metadata": {
        "colab": {
          "base_uri": "https://localhost:8080/"
        },
        "id": "tnn8ngm5YA0F",
        "outputId": "7ad4fcec-076a-4a07-dc87-6adcee014227"
      },
      "execution_count": 30,
      "outputs": [
        {
          "output_type": "execute_result",
          "data": {
            "text/plain": [
              "False"
            ]
          },
          "metadata": {},
          "execution_count": 30
        }
      ]
    },
    {
      "cell_type": "markdown",
      "source": [
        "Ομοίως, μπορώ να ελέγχω αν ένας χαρακτήρας είναι μέσα σε ένα string:"
      ],
      "metadata": {
        "id": "76MRnFVaYHxa"
      }
    },
    {
      "cell_type": "code",
      "source": [
        "\"ε\" in \"Θοδωρής\""
      ],
      "metadata": {
        "colab": {
          "base_uri": "https://localhost:8080/"
        },
        "id": "8K7NPbsJYQ61",
        "outputId": "bb1261cd-fefe-4cd0-fcda-49bfe9057428"
      },
      "execution_count": 31,
      "outputs": [
        {
          "output_type": "execute_result",
          "data": {
            "text/plain": [
              "False"
            ]
          },
          "metadata": {},
          "execution_count": 31
        }
      ]
    },
    {
      "cell_type": "code",
      "source": [
        "name = \"Θοδωρής Παρασκευάς\"\n",
        "\" \" in name"
      ],
      "metadata": {
        "colab": {
          "base_uri": "https://localhost:8080/"
        },
        "id": "mzzDQfLbYXqY",
        "outputId": "792de702-8aa1-420f-d4c5-0aa19edb1ac3"
      },
      "execution_count": 32,
      "outputs": [
        {
          "output_type": "execute_result",
          "data": {
            "text/plain": [
              "True"
            ]
          },
          "metadata": {},
          "execution_count": 32
        }
      ]
    },
    {
      "cell_type": "markdown",
      "source": [
        "**Έχουμε μια λίστα με urls και emails**"
      ],
      "metadata": {
        "id": "X1YvpTHi6G3Y"
      }
    },
    {
      "cell_type": "code",
      "source": [
        "List = [\"https://reporter.gr\", \"mitsos@gmail.com\", \"https://cnn.gr\", \"annak@gmail.com\"]"
      ],
      "metadata": {
        "id": "nGo9YbS_6SWu"
      },
      "execution_count": 33,
      "outputs": []
    },
    {
      "cell_type": "markdown",
      "source": [
        "- **Γράψτε έναν κώδικα που θα λουπάρει σε όλα τα αντικείμενα της λίστας List.**\n",
        "\n",
        "- **Αν το αντικείμενο είναι url, θα το βάζει σε μια λίστα για urls. Αν το αντικείμενο είναι email, θα το βάζει σε μια λίστα για emails.**\n",
        "- **Τυπώστε τα περιεχόμενα των λιστών με τα urls και τα emails**\n",
        "\n",
        "(**Tips**: χρειάζεται να φτιάξετε:\n",
        "- τις δύο λίστες στις οποίες θα μπαίνουν τα αντικείμενα, - μια for loop που θα λουπάρει σε όλα τα αντικείμενα της List\n",
        "- μια δομή if/else που θα τσεκάρει αν το εκάστοτε αντικείμενο είναι url ή email\n",
        "- πρέπει να βρείτε **πώς** θα αναγνωρίζετε αν το εκάστοτε αντικείμενο είναι url ή email)"
      ],
      "metadata": {
        "id": "5mKG_4Qf6kV2"
      }
    },
    {
      "cell_type": "code",
      "source": [
        "url_list = []\n",
        "email_list = []\n",
        "\n",
        "for i in List:\n",
        "  if \"@\" in i:\n",
        "    email_list.append(i)\n",
        "  elif (\".gr\" in i or \".com\" in i) and i.startswith(\"https://\"):\n",
        "    url_list.append(i)\n",
        "  else:\n",
        "    pass"
      ],
      "metadata": {
        "id": "cWIwN7_RzmnT"
      },
      "execution_count": 34,
      "outputs": []
    },
    {
      "cell_type": "code",
      "source": [
        "print(url_list)\n",
        "print(email_list)"
      ],
      "metadata": {
        "colab": {
          "base_uri": "https://localhost:8080/"
        },
        "id": "Xys07EMMSDmc",
        "outputId": "dc3b5979-8953-494b-ca76-6f8293c6f52c"
      },
      "execution_count": 35,
      "outputs": [
        {
          "output_type": "stream",
          "name": "stdout",
          "text": [
            "['https://reporter.gr', 'https://cnn.gr']\n",
            "['mitsos@gmail.com', 'annak@gmail.com']\n"
          ]
        }
      ]
    },
    {
      "cell_type": "markdown",
      "source": [
        "\n",
        "\n",
        "---\n",
        "\n"
      ],
      "metadata": {
        "id": "em5ttb1PZ26h"
      }
    },
    {
      "cell_type": "markdown",
      "source": [
        "### **ΑΣΚΗΣΗ 8**"
      ],
      "metadata": {
        "id": "G1Nargg-Z1dJ"
      }
    },
    {
      "cell_type": "markdown",
      "source": [
        "Μπορώ να χωρίσω τις λέξεις ενός string, βάσει του χαρακτήρα που τις χωρίζει, με το split(). Το αποτέλεσμα είναι μια λίστα με τις λέξεις."
      ],
      "metadata": {
        "id": "IPLiLqpya4nw"
      }
    },
    {
      "cell_type": "code",
      "source": [
        "title = \"Πανεπιστήμιο Αιγαίου\"\n",
        "title_words = title.split(\" \") # ο χαρακτήρας που χωρίζει τις λέξεις είναι το κενό\n",
        "for w in title_words:\n",
        "  print(w)"
      ],
      "metadata": {
        "colab": {
          "base_uri": "https://localhost:8080/"
        },
        "id": "8reKl30DbpL6",
        "outputId": "f0b4ba5c-e226-4c79-c227-7468a6852c80"
      },
      "execution_count": 36,
      "outputs": [
        {
          "output_type": "stream",
          "name": "stdout",
          "text": [
            "Πανεπιστήμιο\n",
            "Αιγαίου\n"
          ]
        }
      ]
    },
    {
      "cell_type": "code",
      "source": [
        "title_words"
      ],
      "metadata": {
        "colab": {
          "base_uri": "https://localhost:8080/"
        },
        "id": "PJKlNAiTrj5Z",
        "outputId": "71300d11-12bc-49e2-a9eb-bcb7c4b985b9"
      },
      "execution_count": 37,
      "outputs": [
        {
          "output_type": "execute_result",
          "data": {
            "text/plain": [
              "['Πανεπιστήμιο', 'Αιγαίου']"
            ]
          },
          "metadata": {},
          "execution_count": 37
        }
      ]
    },
    {
      "cell_type": "markdown",
      "source": [
        "Αφού το title_words είναι λίστα, μπορώ να ζητήσω ένα αντικείμενό της με τον αριθμό του index αυτού του αντικειμένου και να το αποθηκεύσω σε μια μεταβλητή"
      ],
      "metadata": {
        "id": "tKr364-AdEC7"
      }
    },
    {
      "cell_type": "code",
      "source": [
        "last_word = title_words[1]\n",
        "last_word"
      ],
      "metadata": {
        "colab": {
          "base_uri": "https://localhost:8080/",
          "height": 36
        },
        "id": "iWF9B1DScKEN",
        "outputId": "11a23d1e-31a9-4396-ff9a-4a3e177001c8"
      },
      "execution_count": 38,
      "outputs": [
        {
          "output_type": "execute_result",
          "data": {
            "text/plain": [
              "'Αιγαίου'"
            ],
            "application/vnd.google.colaboratory.intrinsic+json": {
              "type": "string"
            }
          },
          "metadata": {},
          "execution_count": 38
        }
      ]
    },
    {
      "cell_type": "markdown",
      "source": [
        "Ομοίως, μπορώ να ζητήσω έναν χαρακτήρα ενός string με τον αριθμό του index αυτού του χαρακτήρα"
      ],
      "metadata": {
        "id": "j4dz7ldcdqh7"
      }
    },
    {
      "cell_type": "code",
      "source": [
        "last_word[-1] # ζητάω τον τελευταίο χαρακτήρα"
      ],
      "metadata": {
        "colab": {
          "base_uri": "https://localhost:8080/",
          "height": 36
        },
        "id": "ahA9ChhyeC3J",
        "outputId": "4a10099e-139c-4174-d1b2-2c1eaf6ccf70"
      },
      "execution_count": 39,
      "outputs": [
        {
          "output_type": "execute_result",
          "data": {
            "text/plain": [
              "'υ'"
            ],
            "application/vnd.google.colaboratory.intrinsic+json": {
              "type": "string"
            }
          },
          "metadata": {},
          "execution_count": 39
        }
      ]
    },
    {
      "cell_type": "markdown",
      "source": [
        "Μπορώ να ελέγξω αν το τελευταίο γράμμα είναι ένα συγκεκριμένο γράμμα"
      ],
      "metadata": {
        "id": "KB6bTkebqQAp"
      }
    },
    {
      "cell_type": "code",
      "source": [
        "last_word[-1] == \"Υ\"\n",
        "# με μονό ίσον (=) ορίζω κάτι να είναι ίσον με κάτι (π.χ. a = 5)\n",
        "# με διπλό ίσον (==) ελέγχω αν κάτι είναι ίσον με κάτι άλλο"
      ],
      "metadata": {
        "colab": {
          "base_uri": "https://localhost:8080/"
        },
        "id": "DJLJxs8TqklU",
        "outputId": "8f7cbf88-e2d2-4fcf-af89-c10b294e1b7a"
      },
      "execution_count": 40,
      "outputs": [
        {
          "output_type": "execute_result",
          "data": {
            "text/plain": [
              "False"
            ]
          },
          "metadata": {},
          "execution_count": 40
        }
      ]
    },
    {
      "cell_type": "markdown",
      "source": [
        "Μπορώ να ζητήσω ένα μέρος ενός string"
      ],
      "metadata": {
        "id": "xIJndb2Je41Z"
      }
    },
    {
      "cell_type": "code",
      "source": [
        "last_word[:-1] # από την αρχή έως και το προτελευταίο γράμμα"
      ],
      "metadata": {
        "colab": {
          "base_uri": "https://localhost:8080/",
          "height": 36
        },
        "id": "PS4jOpYxfA8q",
        "outputId": "cab4ad09-6091-42af-b259-0f3d28154029"
      },
      "execution_count": 41,
      "outputs": [
        {
          "output_type": "execute_result",
          "data": {
            "text/plain": [
              "'Αιγαίο'"
            ],
            "application/vnd.google.colaboratory.intrinsic+json": {
              "type": "string"
            }
          },
          "metadata": {},
          "execution_count": 41
        }
      ]
    },
    {
      "cell_type": "markdown",
      "source": [
        "**Θέλουμε να φτιάξουμε ένα αυτοματοποιημένο, αλλά προσωποποιημένο απαντητικό email, ανάλογα με το επίθετο του παραλήπτη.**"
      ],
      "metadata": {
        "id": "S79ap7gBlVZ2"
      }
    },
    {
      "cell_type": "markdown",
      "source": [
        "- **Δίνονται τα παρακάτω ονόματα:**"
      ],
      "metadata": {
        "id": "NL4n28HnabRp"
      }
    },
    {
      "cell_type": "code",
      "source": [
        "names = [\"Κώστας Μουρλάς\", \"Κατερίνα Σωτηράκου\", \"Θοδωρής Παρασκευάς\"]"
      ],
      "metadata": {
        "id": "lhRKi1dPCdSM"
      },
      "execution_count": 42,
      "outputs": []
    },
    {
      "cell_type": "markdown",
      "source": [
        "- **Φτιάξτε ένα προγραμματάκι που θα κάνει τα εξής:**\n",
        "  - **θα τρέχει σε όλα τα ονόματα της λίστας**\n",
        "  - **θα χωρίζει το όνομα και θα αποθηκεύει το επίθετο σε μια μεταβλητή**\n",
        "  - **αν το επίθετο τελειώνει σε \"ς\" θα τυπώνει \"Αγαπητέ κύριε Μουρλά,\", ή \"Αγαπητέ κύριε Παρασκευά,\",**\n",
        "  - **αλλιώς θα τυπώνει \"Αγαπητή κυρία Σωτηράκου,\"**\n",
        "\n",
        "Tip: δηλαδή, αν το τελευταίο γράμμα του επιθέτου είναι \"ς\", θα τυπώνει το επίθετο από την αρχή έως και το προτελευταίο γράμμα, αλλιώς θα το τυπώνει ολόκληρο"
      ],
      "metadata": {
        "id": "g0VY3FBOiRhL"
      }
    },
    {
      "cell_type": "code",
      "source": [
        "for name in names:\n",
        "  surname = name.split(\" \")[-1]\n",
        "\n",
        "  if surname.endswith(\"ς\"):\n",
        "    print(f\"Αγαπητέ κύριε {surname[:-1]}\")\n",
        "  else:\n",
        "    print(f\"Αγαπητή κυρία {surname}\")"
      ],
      "metadata": {
        "id": "_Ok9tpy3fr73",
        "colab": {
          "base_uri": "https://localhost:8080/"
        },
        "outputId": "3aa669b5-bcb8-4565-c557-968e4c1405fd"
      },
      "execution_count": 44,
      "outputs": [
        {
          "output_type": "stream",
          "name": "stdout",
          "text": [
            "Αγαπητέ κύριε Μουρλά\n",
            "Αγαπητή κυρία Σωτηράκου\n",
            "Αγαπητέ κύριε Παρασκευά\n"
          ]
        }
      ]
    },
    {
      "cell_type": "markdown",
      "source": [
        "\n",
        "\n",
        "---\n",
        "\n"
      ],
      "metadata": {
        "id": "aZlraIGimQX2"
      }
    },
    {
      "cell_type": "markdown",
      "source": [
        "### **ΑΣΚΗΣΗ 9**"
      ],
      "metadata": {
        "id": "xY0vu-Hjmwnt"
      }
    },
    {
      "cell_type": "markdown",
      "source": [
        "Η δομή if εκτός από το else, δέχεται και το elif (πριν το else)."
      ],
      "metadata": {
        "id": "o4yBD3_s3o90"
      }
    },
    {
      "cell_type": "code",
      "source": [
        "nums = [5, 0, -2]\n",
        "for num in nums:\n",
        "  if num == 0:   # αν ο αριθμός είναι 0\n",
        "    print(f\"ο αριθμός {num} δεν είναι ούτε θετικός ούτε αρνητικός\")\n",
        "  elif num > 0:  # αλλιώς αν ο αριθμός είναι μεγαλύτερος από το 0\n",
        "    print(f\"ο αριθμός {num} είναι θετικός\")\n",
        "  else:          # αλλιώς, (αν δεν ισχύει τίποτα από τα παραπάνω)\n",
        "    print(f\"ο αριθμός {num} είναι αρνητικός\")"
      ],
      "metadata": {
        "colab": {
          "base_uri": "https://localhost:8080/"
        },
        "id": "FZ5yBEMc36qy",
        "outputId": "bc1b3784-53ba-4323-df20-917f8c3ab059"
      },
      "execution_count": 45,
      "outputs": [
        {
          "output_type": "stream",
          "name": "stdout",
          "text": [
            "ο αριθμός 5 είναι θετικός\n",
            "ο αριθμός 0 δεν είναι ούτε θετικός ούτε αρνητικός\n",
            "ο αριθμός -2 είναι αρνητικός\n"
          ]
        }
      ]
    },
    {
      "cell_type": "markdown",
      "source": [
        "Σημειώστε ότι το elif και το else είναι προαιρετικά στη δομή if."
      ],
      "metadata": {
        "id": "Ly_aNxVv5rZ2"
      }
    },
    {
      "cell_type": "markdown",
      "source": [
        "Επίσης, μπορούμε να έχουμε μια δομή if μέσα σε μια άλλη δομή if"
      ],
      "metadata": {
        "id": "e1yPO_MSTMqz"
      }
    },
    {
      "cell_type": "code",
      "source": [
        "nums = [5, 0, -2]\n",
        "for num in nums:\n",
        "  if num == 0:   # αν ο αριθμός είναι 0\n",
        "    print(f\"ο αριθμός {num} δεν είναι ούτε θετικός ούτε αρνητικός\")\n",
        "  else:          # αλλιώς, δηλαδή αν δεν είναι 0\n",
        "    if num > 0:  # αν ο αριθμός είναι μεγαλύτερος από το 0\n",
        "      print(f\"ο αριθμός {num} είναι θετικός\")\n",
        "    else:          # αλλιώς, (δηλαδή αν δεν είναι μεγαλύτερος από το 0)\n",
        "      print(f\"ο αριθμός {num} είναι αρνητικός\")"
      ],
      "metadata": {
        "id": "PXSpJir_TNRY",
        "colab": {
          "base_uri": "https://localhost:8080/"
        },
        "outputId": "7fdbcb58-438b-4e2a-f59d-e821b7b306cc"
      },
      "execution_count": 46,
      "outputs": [
        {
          "output_type": "stream",
          "name": "stdout",
          "text": [
            "ο αριθμός 5 είναι θετικός\n",
            "ο αριθμός 0 δεν είναι ούτε θετικός ούτε αρνητικός\n",
            "ο αριθμός -2 είναι αρνητικός\n"
          ]
        }
      ]
    },
    {
      "cell_type": "markdown",
      "source": [
        "- **Ο παραπάνω κώδικας που φτιάξατε (ο οποίος ελέγχει αν το τελευταίο γράμμα είναι \"ς\") δεν μπορεί να δουλέψει σωστά για κάθε πιθανό ελληνικό αντρικό επίθετο.**"
      ],
      "metadata": {
        "id": "6qPNkQgX3gih"
      }
    },
    {
      "cell_type": "markdown",
      "source": [
        "- **Προσθέστε στη λίστα των ονομάτων το \"Νίκος Παπαναστασίου\" και βρείτε έναν τρόπο ώστε ο κώδικας να δουλεύει σωστά και γι' αυτό το όνομα**\n",
        "\n",
        "Tip: τυπώστε τα περιεχόμενα της λίστας των ονομάτων μετά την προσθήκη του Παπαναστασίου παρατηρήστε καλά τα ονόματα και τα επίθετα. Χρησιμοποιήστε δύο δομές if (η μία θα εξετάζει τα μικρά ονόματα και η άλλη τα επίθετα), και βάλτε τη μία δομή μέσα στην άλλη."
      ],
      "metadata": {
        "id": "vPTvpLFG3lYw"
      }
    },
    {
      "cell_type": "code",
      "source": [
        "names.append(\"Νίκος Παπαναστασίου\")"
      ],
      "metadata": {
        "id": "h9geZur6183w"
      },
      "execution_count": 47,
      "outputs": []
    },
    {
      "cell_type": "code",
      "source": [
        "print(names)"
      ],
      "metadata": {
        "id": "3wMmjA7apasV",
        "colab": {
          "base_uri": "https://localhost:8080/"
        },
        "outputId": "e61ef9d9-3d6f-49be-c23d-b9b3bfc35217"
      },
      "execution_count": 48,
      "outputs": [
        {
          "output_type": "stream",
          "name": "stdout",
          "text": [
            "['Κώστας Μουρλάς', 'Κατερίνα Σωτηράκου', 'Θοδωρής Παρασκευάς', 'Νίκος Παπαναστασίου']\n"
          ]
        }
      ]
    },
    {
      "cell_type": "code",
      "source": [
        "for name in names:\n",
        "  name, surname = name.split(\" \")\n",
        "  if surname.endswith(\"ς\"):\n",
        "    print(f\"Αγαπητέ κύριε {surname[:-1]} ({name})\")\n",
        "  else:\n",
        "    if name.endswith(\"ς\"):\n",
        "      print(f\"Αγαπητέ κύριε {surname} ({name})\")\n",
        "    else:\n",
        "      print(f\"Αγαπητή κυρία {surname} ({name})\")"
      ],
      "metadata": {
        "id": "6Btuf9LM122O",
        "colab": {
          "base_uri": "https://localhost:8080/"
        },
        "outputId": "e780e8b3-d9fa-438c-b76d-d58a01d74ec8"
      },
      "execution_count": 49,
      "outputs": [
        {
          "output_type": "stream",
          "name": "stdout",
          "text": [
            "Αγαπητέ κύριε Μουρλά (Κώστας)\n",
            "Αγαπητή κυρία Σωτηράκου (Κατερίνα)\n",
            "Αγαπητέ κύριε Παρασκευά (Θοδωρής)\n",
            "Αγαπητέ κύριε Παπαναστασίου (Νίκος)\n"
          ]
        }
      ]
    }
  ]
}