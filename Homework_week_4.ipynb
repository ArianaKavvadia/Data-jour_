{
  "nbformat": 4,
  "nbformat_minor": 0,
  "metadata": {
    "colab": {
      "provenance": [],
      "include_colab_link": true
    },
    "kernelspec": {
      "name": "python3",
      "display_name": "Python 3"
    },
    "language_info": {
      "name": "python"
    }
  },
  "cells": [
    {
      "cell_type": "markdown",
      "metadata": {
        "id": "view-in-github",
        "colab_type": "text"
      },
      "source": [
        "<a href=\"https://colab.research.google.com/github/ArianaKavvadia/Data-jour_/blob/main/Homework_week_4.ipynb\" target=\"_parent\"><img src=\"https://colab.research.google.com/assets/colab-badge.svg\" alt=\"Open In Colab\"/></a>"
      ]
    },
    {
      "cell_type": "markdown",
      "source": [
        "**Ζητούμενο**:\n",
        "\n",
        "Θέλουμε να φτιάξουμε έναν αλγόριθμο, ο οποίος θα κάνει τα παρακάτω:\n",
        "- από το url του άρθρου μιας κατηγορίας ειδήσεων από ένα ειδησεογραφικό site, θα απομονώνει τον τίτλο του άρθρου και θα τον προσθέτει σε μια λίστα\n",
        "- θα παίρνει τον τίτλο από τη λίστα, θα μετράει τις λέξεις του τίτλου και θα προσθέτει τον αριθμό του πλήθους των λέξεων σε μια άλλη λίστα"
      ],
      "metadata": {
        "id": "jgQ-y8VYLE2K"
      }
    },
    {
      "cell_type": "markdown",
      "source": [
        "**Περιορισμοί**\n",
        "\n",
        "**Για εκπαιδευτικούς λόγους, Θα χρησιμοποιηθούν αποκλειστικά τεχνικές που έχουμε δείξει, που περιέχονται στο notebook της Εισαγωγής στην Python και που παρουσιάζονται εδώ.**\n",
        "\n",
        "**Αυτό σημαίνει, ότι παρότι υπάρχουν κι άλλοι τρόποι για να πάρουμε το ίδιο αποτέλεσμα, θα πρέπει να λύσετε την άσκηση, ΜΟΝΟ με τον τρόπο που δείχνεται εδώ**."
      ],
      "metadata": {
        "id": "aMv5ZKxwiTnU"
      }
    },
    {
      "cell_type": "markdown",
      "source": [
        "**Ανάλυση του τι πρέπει να κάνουμε**:\n",
        "\n",
        "- θα βρούμε ένα ειδησεογραφικό site που μας ενδιαφέρει (π.χ. news247.gr)\n",
        "- θα επιλέξουμε μια κατηγορία ειδήσεων που μας ενδιαφέρει (π.χ. Πολιτική)\n",
        "- θα μπούμε στην αρχική σελίδα των ειδήσεων της κατηγορίας που επιλέξαμε (π.χ.  https://www.news247.gr/politiki/)\n",
        "- θα διαλέξουμε ένα άρθρο, θα κάνουμε δεξί κλικ πάνω στον τίτλο του και θα κάνουμε copy link / αντιγραφή συνδέσμου (π.χ. https://www.news247.gr/politiki/i-kivernisi-epimenei-sti-mi-nomothetisi-tou-orou-ginaikoktonia/)\n",
        "- θα φτιάξουμε στην Python μια λίστα (που θα αποθηκεύουμε τα urls των άρθρων)και θα βάλουμε μέσα στη λίστα, το url που κάναμε copy απο το site\n",
        "- θα μελετήσουμε τη δομή του url για να δούμε πώς μπορούμε να απομονώνουμε τον τίτλο από το url\n",
        "- θα φέρουμε και το url ενός δεύτερου άρθρου και θα το βάλουμε μέσα στη λίστα, για να βρούμε έναν τρόπο που θα δουλεύει για οποιοδήποτε url αυτής της κατηγορίας, αυτού του site που επιλέξαμε\n",
        "- θα γράψουμε τον κώδικα που θα απομονώνει τον τίτλο και θα τεστάρουμε ότι δουλεύει και για τους δύο τίτλους\n",
        "- θα αποθηκεύσουμε τους τίτλους σε μια νέα λίστα\n",
        "- θα χρησιμοποιήσουμε methods για strings και λίστες για να μετρήσουμε τις λέξεις\n",
        "- θα γράψουμε τον κώδικα για να προστίθεται το πλήθος των λέξεων του τίτλου σε μια νέα λίστα\n",
        "- εφόσον όλα δουλεύουν σωστά, θα γράψουμε όλο μαζί τον κώδικα του αλγόριθμου σε ένα cell\n",
        "- θα φέρουμε το url ενός τρίτου άρθρου και θα τρέξουμε τον αλγόριθμο σε αυτό το url"
      ],
      "metadata": {
        "id": "s_W6blUPQEOt"
      }
    },
    {
      "cell_type": "markdown",
      "source": [
        "**Παράδειγμα**"
      ],
      "metadata": {
        "id": "ZnifdoN3gZga"
      }
    },
    {
      "cell_type": "code",
      "source": [
        "urlsL = [\"https://www.news247.gr/politiki/i-kivernisi-epimenei-sti-mi-nomothetisi-tou-orou-ginaikoktonia/\",\n",
        "         \"https://www.news247.gr/politiki/episimo-oxi-apo-tin-kivernisi-stin-vouli-gia-tin-ensomatosi-tou-orou-ginaikoktonia/\"]"
      ],
      "metadata": {
        "id": "kXsJYcWpgiAa"
      },
      "execution_count": null,
      "outputs": []
    },
    {
      "cell_type": "code",
      "source": [
        "# μπορώ να δουλεύω με ένα url, καλώντας το με τον αριθμό του index που έχει μέσα στη λίστα urlsL\n",
        "urlsL[0]"
      ],
      "metadata": {
        "colab": {
          "base_uri": "https://localhost:8080/",
          "height": 36
        },
        "id": "7js4w_Pmj7_8",
        "outputId": "16bd2b9d-488f-4248-c18d-624c1cbef5ab"
      },
      "execution_count": null,
      "outputs": [
        {
          "output_type": "execute_result",
          "data": {
            "text/plain": [
              "'https://www.news247.gr/politiki/i-kivernisi-epimenei-sti-mi-nomothetisi-tou-orou-ginaikoktonia/'"
            ],
            "application/vnd.google.colaboratory.intrinsic+json": {
              "type": "string"
            }
          },
          "metadata": {},
          "execution_count": 123
        }
      ]
    },
    {
      "cell_type": "code",
      "source": [
        "# μπορώ να αποθηκεύω το εκάστοτε url από τη λίστα σε μια μεταβλητή και να δουλεύω με αυτή\n",
        "url = urlsL[0]\n",
        "url"
      ],
      "metadata": {
        "colab": {
          "base_uri": "https://localhost:8080/",
          "height": 36
        },
        "id": "wsP9RcA1m-HU",
        "outputId": "01f92969-ca9b-4690-9d2b-2b331d540d88"
      },
      "execution_count": null,
      "outputs": [
        {
          "output_type": "execute_result",
          "data": {
            "text/plain": [
              "'https://www.news247.gr/politiki/i-kivernisi-epimenei-sti-mi-nomothetisi-tou-orou-ginaikoktonia/'"
            ],
            "application/vnd.google.colaboratory.intrinsic+json": {
              "type": "string"
            }
          },
          "metadata": {},
          "execution_count": 124
        }
      ]
    },
    {
      "cell_type": "code",
      "source": [
        "# ή\n",
        "url = urlsL[1]\n",
        "url"
      ],
      "metadata": {
        "colab": {
          "base_uri": "https://localhost:8080/",
          "height": 36
        },
        "id": "cvagLoGSnZ3i",
        "outputId": "49352b70-30cd-4c93-f854-bb2865a956ec"
      },
      "execution_count": null,
      "outputs": [
        {
          "output_type": "execute_result",
          "data": {
            "text/plain": [
              "'https://www.news247.gr/politiki/episimo-oxi-apo-tin-kivernisi-stin-vouli-gia-tin-ensomatosi-tou-orou-ginaikoktonia/'"
            ],
            "application/vnd.google.colaboratory.intrinsic+json": {
              "type": "string"
            }
          },
          "metadata": {},
          "execution_count": 125
        }
      ]
    },
    {
      "cell_type": "markdown",
      "source": [
        "Παρατηρώ ότι η δομή του url είναι: \"https://www.news247.gr/politiki/\" + \"<τίτλος άρθρου>\""
      ],
      "metadata": {
        "id": "gCE-YdeXhnQx"
      }
    },
    {
      "cell_type": "markdown",
      "source": [
        "Ένας τρόπος να απομονώσω τον τίτλο από το url είναι να \"σβήνω\" ό,τι υπάρχει πριν τον τίτλο (το οποίο είναι ίδιο σε όλα τα urls).\n",
        "\n",
        "Εφαρμόζοντας τη μέθοδο replace() σε ένα string, μπορώ να αντικαταστήσω ένα τμήμα του με ένα άλλο.\n"
      ],
      "metadata": {
        "id": "bvXDRJyUl97H"
      }
    },
    {
      "cell_type": "code",
      "source": [
        "# αντικαθιστώ στο url το \"https://www.news247.gr/politiki/\" με το τίποτα: \"\"\n",
        "url.replace(\"https://www.news247.gr/politiki/\", \"\")"
      ],
      "metadata": {
        "colab": {
          "base_uri": "https://localhost:8080/",
          "height": 36
        },
        "id": "JPDG-Yvzhg-g",
        "outputId": "da7109fd-9cdc-4d48-de0f-42d06383e921"
      },
      "execution_count": null,
      "outputs": [
        {
          "output_type": "execute_result",
          "data": {
            "text/plain": [
              "'episimo-oxi-apo-tin-kivernisi-stin-vouli-gia-tin-ensomatosi-tou-orou-ginaikoktonia/'"
            ],
            "application/vnd.google.colaboratory.intrinsic+json": {
              "type": "string"
            }
          },
          "metadata": {},
          "execution_count": 126
        }
      ]
    },
    {
      "cell_type": "code",
      "source": [
        "# χρειάζεται να \"σβήνω\" και το τελευταίο slash\n",
        "url.replace(\"https://www.news247.gr/politiki/\", \"\").replace(\"/\", \"\")"
      ],
      "metadata": {
        "colab": {
          "base_uri": "https://localhost:8080/",
          "height": 36
        },
        "id": "Vzj3SowdlfPO",
        "outputId": "d1d8959e-0dd2-4272-a2e2-303d345eeed4"
      },
      "execution_count": null,
      "outputs": [
        {
          "output_type": "execute_result",
          "data": {
            "text/plain": [
              "'episimo-oxi-apo-tin-kivernisi-stin-vouli-gia-tin-ensomatosi-tou-orou-ginaikoktonia'"
            ],
            "application/vnd.google.colaboratory.intrinsic+json": {
              "type": "string"
            }
          },
          "metadata": {},
          "execution_count": 127
        }
      ]
    },
    {
      "cell_type": "code",
      "source": [
        "# καλό είναι να αντικαταστήσω τις παύλες ανάμεσα στις λέξεις με κενά\n",
        "url.replace(\"https://www.news247.gr/politiki/\", \"\").replace(\"/\", \"\").replace(\"-\", \" \")"
      ],
      "metadata": {
        "colab": {
          "base_uri": "https://localhost:8080/",
          "height": 36
        },
        "id": "2OFXeFTi6BO3",
        "outputId": "796e0c91-ac21-4c7d-c971-21fe8b472bd3"
      },
      "execution_count": null,
      "outputs": [
        {
          "output_type": "execute_result",
          "data": {
            "text/plain": [
              "'episimo oxi apo tin kivernisi stin vouli gia tin ensomatosi tou orou ginaikoktonia'"
            ],
            "application/vnd.google.colaboratory.intrinsic+json": {
              "type": "string"
            }
          },
          "metadata": {},
          "execution_count": 128
        }
      ]
    },
    {
      "cell_type": "markdown",
      "source": [
        "Όπως φαίνεται παραπάνω, μπορώ να κάνω όλα μαζί τα replace(), σε μια γραμμή κώδικα, βάζοντας το ένα replace μετά το άλλο."
      ],
      "metadata": {
        "id": "Djevfb2O_cwa"
      }
    },
    {
      "cell_type": "markdown",
      "source": [
        "Αποθηκεύω τον τίτλο σε μια μεταβλητή"
      ],
      "metadata": {
        "id": "O1-oTEBnmNn1"
      }
    },
    {
      "cell_type": "code",
      "source": [
        "title = url.replace(\"https://www.news247.gr/politiki/\", \"\").replace(\"/\", \"\").replace(\"-\", \" \")\n",
        "# έλεγχος\n",
        "title"
      ],
      "metadata": {
        "colab": {
          "base_uri": "https://localhost:8080/",
          "height": 36
        },
        "id": "rTuyrMJOmL7B",
        "outputId": "0190c501-24ba-4201-e83a-4fd0ff05dfec"
      },
      "execution_count": null,
      "outputs": [
        {
          "output_type": "execute_result",
          "data": {
            "text/plain": [
              "'episimo oxi apo tin kivernisi stin vouli gia tin ensomatosi tou orou ginaikoktonia'"
            ],
            "application/vnd.google.colaboratory.intrinsic+json": {
              "type": "string"
            }
          },
          "metadata": {},
          "execution_count": 129
        }
      ]
    },
    {
      "cell_type": "markdown",
      "source": [
        "**H μέθοδος split() για strings**\n",
        "\n",
        "Το split(), όταν το εφαρμόζουμε σε ένα string και μέσα στην παρένθεση βάζουμε το χαρακτήρα που διαχωρίζει τις λέξεις, μας δίνει όλες τις λέξεις του string σαν αντικείμενα μιας λίστας."
      ],
      "metadata": {
        "id": "55agdnkxoA05"
      }
    },
    {
      "cell_type": "code",
      "source": [
        "# παράδειγμα split() σε φράση που οι λέξεις διαχωρίζονται με παύλες\n",
        "string = \"με-το-split-παίρνουμε-σε-λίστα-τις-λέξεις-μιας-φράσης\"\n",
        "string.split(\"-\")"
      ],
      "metadata": {
        "colab": {
          "base_uri": "https://localhost:8080/"
        },
        "id": "9S3cI5pupXEX",
        "outputId": "11478398-5eee-462a-ca04-c4e02ade0fcf"
      },
      "execution_count": null,
      "outputs": [
        {
          "output_type": "execute_result",
          "data": {
            "text/plain": [
              "['με',\n",
              " 'το',\n",
              " 'split',\n",
              " 'παίρνουμε',\n",
              " 'σε',\n",
              " 'λίστα',\n",
              " 'τις',\n",
              " 'λέξεις',\n",
              " 'μιας',\n",
              " 'φράσης']"
            ]
          },
          "metadata": {},
          "execution_count": 130
        }
      ]
    },
    {
      "cell_type": "markdown",
      "source": [
        "Στον τίτλο από το url που δουλεύουμε, οι λέξεις διαχωρίζονται με κενό"
      ],
      "metadata": {
        "id": "UbGwBW3irVby"
      }
    },
    {
      "cell_type": "code",
      "source": [
        "title"
      ],
      "metadata": {
        "colab": {
          "base_uri": "https://localhost:8080/",
          "height": 36
        },
        "id": "p02X_7kIET1w",
        "outputId": "5190c1fa-599b-4fd3-9895-fbdc2e6f5ec6"
      },
      "execution_count": null,
      "outputs": [
        {
          "output_type": "execute_result",
          "data": {
            "text/plain": [
              "'episimo oxi apo tin kivernisi stin vouli gia tin ensomatosi tou orou ginaikoktonia'"
            ],
            "application/vnd.google.colaboratory.intrinsic+json": {
              "type": "string"
            }
          },
          "metadata": {},
          "execution_count": 131
        }
      ]
    },
    {
      "cell_type": "code",
      "source": [
        "title.split(\" \")"
      ],
      "metadata": {
        "colab": {
          "base_uri": "https://localhost:8080/"
        },
        "id": "Nol-8IcwoOaL",
        "outputId": "6fcbe499-0770-4d26-e326-310d0f903255"
      },
      "execution_count": null,
      "outputs": [
        {
          "output_type": "execute_result",
          "data": {
            "text/plain": [
              "['episimo',\n",
              " 'oxi',\n",
              " 'apo',\n",
              " 'tin',\n",
              " 'kivernisi',\n",
              " 'stin',\n",
              " 'vouli',\n",
              " 'gia',\n",
              " 'tin',\n",
              " 'ensomatosi',\n",
              " 'tou',\n",
              " 'orou',\n",
              " 'ginaikoktonia']"
            ]
          },
          "metadata": {},
          "execution_count": 132
        }
      ]
    },
    {
      "cell_type": "code",
      "source": [
        "# αποθηκεύω το αποτέλεσμα του split σε μια μεταβλητή\n",
        "titleL = title.split(\" \")\n",
        "# ελέγχω αν έγινε αυτό που ήθελα\n",
        "titleL"
      ],
      "metadata": {
        "colab": {
          "base_uri": "https://localhost:8080/"
        },
        "id": "LfY5wMA-rkpv",
        "outputId": "eb2008ec-afe5-44d8-aa9f-7f2db7c89cd0"
      },
      "execution_count": null,
      "outputs": [
        {
          "output_type": "execute_result",
          "data": {
            "text/plain": [
              "['episimo',\n",
              " 'oxi',\n",
              " 'apo',\n",
              " 'tin',\n",
              " 'kivernisi',\n",
              " 'stin',\n",
              " 'vouli',\n",
              " 'gia',\n",
              " 'tin',\n",
              " 'ensomatosi',\n",
              " 'tou',\n",
              " 'orou',\n",
              " 'ginaikoktonia']"
            ]
          },
          "metadata": {},
          "execution_count": 133
        }
      ]
    },
    {
      "cell_type": "markdown",
      "source": [
        "**Η συνάρτηση len() για λίστες**\n",
        "\n",
        "Με το len() παίρνουμε το πλήθος των αντικειμένων μιας λίστας"
      ],
      "metadata": {
        "id": "AtDn3u5kmGUi"
      }
    },
    {
      "cell_type": "code",
      "source": [
        "# μετράω τις λέξεις του τίτλου\n",
        "len(titleL)"
      ],
      "metadata": {
        "colab": {
          "base_uri": "https://localhost:8080/"
        },
        "id": "2p8_Lybbsx5l",
        "outputId": "0595fac3-d27a-429f-f2c9-fe2b6a791591"
      },
      "execution_count": null,
      "outputs": [
        {
          "output_type": "execute_result",
          "data": {
            "text/plain": [
              "13"
            ]
          },
          "metadata": {},
          "execution_count": 134
        }
      ]
    },
    {
      "cell_type": "code",
      "source": [
        "# αποθηκεύω τον αριθμό λέξεων σε μια μεταβλητή\n",
        "title_words_nbr = len(titleL)\n",
        "# ελέγχω\n",
        "title_words_nbr"
      ],
      "metadata": {
        "colab": {
          "base_uri": "https://localhost:8080/"
        },
        "id": "jayG-7ies-aq",
        "outputId": "b4d9dfe2-d0ef-4cbc-bb1d-6438ede4f355"
      },
      "execution_count": null,
      "outputs": [
        {
          "output_type": "execute_result",
          "data": {
            "text/plain": [
              "13"
            ]
          },
          "metadata": {},
          "execution_count": 135
        }
      ]
    },
    {
      "cell_type": "code",
      "source": [
        "# φτιάχνω μια λίστα που θα αποθηκεύω τον αριθμό λέξεων του τίτλου\n",
        "title_words_nbrL = []\n",
        "# προσθέτω τον αριθμό λέξεων του τίτλου στη λίστα\n",
        "title_words_nbrL.append(title_words_nbr)\n",
        "# ελέγχω\n",
        "title_words_nbrL"
      ],
      "metadata": {
        "colab": {
          "base_uri": "https://localhost:8080/"
        },
        "id": "fHy5KcI9tf_G",
        "outputId": "efc04e99-b081-48d9-ccd9-a162917fefe3"
      },
      "execution_count": null,
      "outputs": [
        {
          "output_type": "execute_result",
          "data": {
            "text/plain": [
              "[13]"
            ]
          },
          "metadata": {},
          "execution_count": 136
        }
      ]
    },
    {
      "cell_type": "markdown",
      "source": [
        "**Όλος ο αλγόριθμος μαζί**"
      ],
      "metadata": {
        "id": "u91A0hjZ0HLU"
      }
    },
    {
      "cell_type": "markdown",
      "source": [
        "Αρχικοποίηση"
      ],
      "metadata": {
        "id": "Quw1qzMY21G1"
      }
    },
    {
      "cell_type": "code",
      "source": [
        "urlsL = [\"https://www.news247.gr/politiki/i-kivernisi-epimenei-sti-mi-nomothetisi-tou-orou-ginaikoktonia/\",\n",
        "         \"https://www.news247.gr/politiki/episimo-oxi-apo-tin-kivernisi-stin-vouli-gia-tin-ensomatosi-tou-orou-ginaikoktonia/\"]"
      ],
      "metadata": {
        "id": "iYNySHgJ1egK"
      },
      "execution_count": null,
      "outputs": []
    },
    {
      "cell_type": "code",
      "source": [
        "titlesL = []\n",
        "title_words_nbrL = []"
      ],
      "metadata": {
        "id": "XqDuRDGr16-J"
      },
      "execution_count": null,
      "outputs": []
    },
    {
      "cell_type": "markdown",
      "source": [
        "Ορισμός του url τον οποίο θα επεξεργαστεί ο αλγόριθμος"
      ],
      "metadata": {
        "id": "sVMc3AQx2_WB"
      }
    },
    {
      "cell_type": "code",
      "source": [
        "url = urlsL[0]"
      ],
      "metadata": {
        "id": "-B5GOfAn2Fwh"
      },
      "execution_count": null,
      "outputs": []
    },
    {
      "cell_type": "markdown",
      "source": [
        "Αλγόριθμος"
      ],
      "metadata": {
        "id": "SFQRuKhA25xz"
      }
    },
    {
      "cell_type": "code",
      "source": [
        "title = url.replace(\"https://www.news247.gr/politiki/\", \"\").replace(\"/\", \"\").replace(\"-\", \" \")\n",
        "titlesL.append(title)\n",
        "titleL = title.split(\" \")\n",
        "title_words_nbr = len(titleL)\n",
        "title_words_nbrL.append(title_words_nbr)"
      ],
      "metadata": {
        "id": "vR-KZl0iuHxb"
      },
      "execution_count": null,
      "outputs": []
    },
    {
      "cell_type": "code",
      "source": [
        "print(titlesL)\n",
        "print(title_words_nbrL)"
      ],
      "metadata": {
        "colab": {
          "base_uri": "https://localhost:8080/"
        },
        "id": "Oc5FUCaY0uAm",
        "outputId": "13c767c2-34c0-4e8d-b56b-ec29a1004143"
      },
      "execution_count": null,
      "outputs": [
        {
          "output_type": "stream",
          "name": "stdout",
          "text": [
            "['i kivernisi epimenei sti mi nomothetisi tou orou ginaikoktonia']\n",
            "[9]\n"
          ]
        }
      ]
    },
    {
      "cell_type": "markdown",
      "source": [
        "Ο παραπάνω αλγόριθμος δουλεύει για κάθε url από την κατηγορία \"Πολιτική\" του news247.gr"
      ],
      "metadata": {
        "id": "3DlJdETD3Q1l"
      }
    },
    {
      "cell_type": "code",
      "source": [
        "url = urlsL[1]"
      ],
      "metadata": {
        "id": "1Us4x8ng3M0Z"
      },
      "execution_count": null,
      "outputs": []
    },
    {
      "cell_type": "code",
      "source": [
        "title = url.replace(\"https://www.news247.gr/politiki/\", \"\").replace(\"/\", \"\").replace(\"-\", \" \")\n",
        "titlesL.append(title)\n",
        "titleL = title.split(\" \")\n",
        "title_words_nbr = len(titleL)\n",
        "title_words_nbrL.append(title_words_nbr)"
      ],
      "metadata": {
        "id": "mUCmaeYi3x84"
      },
      "execution_count": null,
      "outputs": []
    },
    {
      "cell_type": "code",
      "source": [
        "print(titlesL)\n",
        "print(title_words_nbrL)"
      ],
      "metadata": {
        "colab": {
          "base_uri": "https://localhost:8080/"
        },
        "id": "9xDwNDhg3zaM",
        "outputId": "52f5712a-698a-4555-f618-9e7119802924"
      },
      "execution_count": null,
      "outputs": [
        {
          "output_type": "stream",
          "name": "stdout",
          "text": [
            "['i kivernisi epimenei sti mi nomothetisi tou orou ginaikoktonia', 'episimo oxi apo tin kivernisi stin vouli gia tin ensomatosi tou orou ginaikoktonia']\n",
            "[9, 13]\n"
          ]
        }
      ]
    },
    {
      "cell_type": "markdown",
      "source": [
        "## **Άσκηση (προς βαθμολόγηση)**"
      ],
      "metadata": {
        "id": "jPtugHWfAQhP"
      }
    },
    {
      "cell_type": "markdown",
      "source": [
        "Εφαρμόζοντας **ακριβώς** την παραπάνω τεχνική, φτιάξτε τον αλγόριθμο που θα κάνει το ίδιο πράγμα για άρθρα μιας κατηγορίας ενός ειδησεογραφικού site της αρεσκείας σας, **εκτός από το news247.gr**.\n",
        "\n",
        "Τρέξτε τον αλγόριθμο για 3 διαφορετικά urls άρθρων."
      ],
      "metadata": {
        "id": "rh4fpvcBAa12"
      }
    },
    {
      "cell_type": "code",
      "source": [
        "l_urls = [\"https://www.politico.eu/article/uk-france-sejourne-cameron-warn-us-world-watching-ukraine-war-aid-putin/\",\n",
        "          \"https://www.politico.eu/article/viktor-orban-plan-europe-hungary-council-presidency-election/\",\n",
        "          \"https://www.politico.eu/article/france-senator-reject-eu-canada-trade-deal-farmer-unrest/\"\n",
        "          ]\n",
        "l_titles = []\n",
        "l_wordcount = []"
      ],
      "metadata": {
        "id": "K7WabxbHAWFw"
      },
      "execution_count": 1,
      "outputs": []
    },
    {
      "cell_type": "code",
      "source": [
        "url = l_urls[0]\n",
        "url_clean = url.replace(\"https://www.politico.eu/article/\", \"\").replace(\"/\",\" \").replace(\"-\", \" \")\n",
        "url_split = url_clean.split(\" \")\n",
        "l_wordcount.append(len(url_split))\n",
        "l_titles.append(url_clean)"
      ],
      "metadata": {
        "id": "fVKa2G14II7y"
      },
      "execution_count": 2,
      "outputs": []
    },
    {
      "cell_type": "code",
      "source": [
        "url = l_urls[1]\n",
        "url_clean = url.replace(\"https://www.politico.eu/article/\", \"\").replace(\"/\",\"\").replace(\"-\", \" \")\n",
        "url_split = url_clean.split(\" \")\n",
        "l_wordcount.append(len(url_split))\n",
        "l_titles.append(url_clean)"
      ],
      "metadata": {
        "id": "iAy6M68nIoeC"
      },
      "execution_count": 3,
      "outputs": []
    },
    {
      "cell_type": "code",
      "source": [
        "url = l_urls[2]\n",
        "url_clean = url.replace(\"https://www.politico.eu/article/\", \"\").replace(\"/\",\" \").replace(\"-\", \" \")\n",
        "url_split = url_clean.split(\" \")\n",
        "l_wordcount.append(len(url_split))\n",
        "l_titles.append(url_clean)"
      ],
      "metadata": {
        "id": "2Omk_Z_gJjwV"
      },
      "execution_count": 4,
      "outputs": []
    },
    {
      "cell_type": "code",
      "source": [
        "l_titles"
      ],
      "metadata": {
        "colab": {
          "base_uri": "https://localhost:8080/"
        },
        "id": "eyroiLtnJnUV",
        "outputId": "b7691be4-61d5-476d-f107-114146a070e6"
      },
      "execution_count": 5,
      "outputs": [
        {
          "output_type": "execute_result",
          "data": {
            "text/plain": [
              "['uk france sejourne cameron warn us world watching ukraine war aid putin ',\n",
              " 'viktor orban plan europe hungary council presidency election',\n",
              " 'france senator reject eu canada trade deal farmer unrest ']"
            ]
          },
          "metadata": {},
          "execution_count": 5
        }
      ]
    },
    {
      "cell_type": "code",
      "source": [
        "l_wordcount"
      ],
      "metadata": {
        "colab": {
          "base_uri": "https://localhost:8080/"
        },
        "id": "-U-S8b1TJ1E5",
        "outputId": "13ab2abb-c27f-4842-b146-ea0a138d0de1"
      },
      "execution_count": 6,
      "outputs": [
        {
          "output_type": "execute_result",
          "data": {
            "text/plain": [
              "[13, 8, 10]"
            ]
          },
          "metadata": {},
          "execution_count": 6
        }
      ]
    },
    {
      "cell_type": "markdown",
      "source": [
        "## **Προαιρετική Άσκηση (χωρίς βαθμολόγηση)**"
      ],
      "metadata": {
        "id": "KxxfJ0h_CRSU"
      }
    },
    {
      "cell_type": "markdown",
      "source": [
        "Τροποποιήστε τον αλγόριθμο που φτιάξατε έτσι ώστε να απομονώνει τον τίτλο από το url, για άρθρα κάθε κατηγορίας του site που επιλέξατε, χρησιμοποιώντας **αποκλειστικά** τo replace() και το index()."
      ],
      "metadata": {
        "id": "8b83uh0gCg1h"
      }
    }
  ]
}